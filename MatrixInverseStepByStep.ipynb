{
 "cells": [
  {
   "cell_type": "markdown",
   "metadata": {},
   "source": [
    "# Matrix Inversion Step-by-Step Programming"
   ]
  },
  {
   "cell_type": "markdown",
   "metadata": {},
   "source": [
    "## Helper Functions"
   ]
  },
  {
   "cell_type": "code",
   "execution_count": 1,
   "metadata": {},
   "outputs": [],
   "source": [
    "def print_matrix(Title, M):\n",
    "    print(Title)\n",
    "    for row in M:\n",
    "        print([round(x,3)+0 for x in row])\n",
    "        \n",
    "def print_matrices(Action, Title1, M1, Title2, M2):\n",
    "    print(Action)\n",
    "    print(Title1, '\\t'*int(len(M1)/2)+\"\\t\"*len(M1), Title2)\n",
    "    for i in range(len(M1)):\n",
    "        row1 = ['{0:+7.3f}'.format(x) for x in M1[i]]\n",
    "        row2 = ['{0:+7.3f}'.format(x) for x in M2[i]]\n",
    "        print(row1,'\\t', row2)\n",
    "        \n",
    "def zeros_matrix(rows, cols):\n",
    "    A = []\n",
    "    for i in range(rows):\n",
    "        A.append([])\n",
    "        for j in range(cols):\n",
    "            A[-1].append(0.0)\n",
    "\n",
    "    return A\n",
    "\n",
    "def copy_matrix(M):\n",
    "    rows = len(M)\n",
    "    cols = len(M[0])\n",
    "\n",
    "    MC = zeros_matrix(rows, cols)\n",
    "\n",
    "    for i in range(rows):\n",
    "        for j in range(rows):\n",
    "            MC[i][j] = M[i][j]\n",
    "\n",
    "    return MC\n",
    "\n",
    "def matrix_multiply(A,B):\n",
    "    rowsA = len(A)\n",
    "    colsA = len(A[0])\n",
    "\n",
    "    rowsB = len(B)\n",
    "    colsB = len(B[0])\n",
    "\n",
    "    if colsA != rowsB:\n",
    "        print('Number of A columns must equal number of B rows.')\n",
    "        sys.exit()\n",
    "\n",
    "    C = zeros_matrix(rowsA, colsB)\n",
    "\n",
    "    for i in range(rowsA):\n",
    "        for j in range(colsB):\n",
    "            total = 0\n",
    "            for ii in range(colsA):\n",
    "                total += A[i][ii] * B[ii][j]\n",
    "            C[i][j] = total\n",
    "\n",
    "    return C"
   ]
  },
  {
   "cell_type": "markdown",
   "metadata": {},
   "source": [
    "## Original A and I Matrices"
   ]
  },
  {
   "cell_type": "code",
   "execution_count": 2,
   "metadata": {},
   "outputs": [],
   "source": [
    "# A = [[5.,4.,3.,2.,1.],[4.,3.,2.,1.,5.],[3.,2.,9.,5.,4.],[2.,1.,5.,4.,3.],[1.,2.,3.,4.,5.]]\n",
    "# I = [[1.,0.,0.,0.,0.],[0.,1.,0.,0.,0.],[0.,0.,1.,0.,0.],[0.,0.,0.,1.,0.],[0.,0.,0.,0.,1.]]\n",
    "A = [[5.,3.,1.],[3.,9.,4.],[1.,3.,5.]]\n",
    "I = [[1.,0.,0.],[0.,1.,0.],[0.,0.,1.]]"
   ]
  },
  {
   "cell_type": "markdown",
   "metadata": {},
   "source": [
    "## Steps to Make the Lower Triangle Matrix All 0's"
   ]
  },
  {
   "cell_type": "code",
   "execution_count": 3,
   "metadata": {},
   "outputs": [
    {
     "name": "stdout",
     "output_type": "stream",
     "text": [
      "A and I are our starting matrices.\n",
      "\n",
      "A Matrix \t\t\t\t I Matrix\n",
      "[' +5.000', ' +3.000', ' +1.000'] \t [' +1.000', ' +0.000', ' +0.000']\n",
      "[' +3.000', ' +9.000', ' +4.000'] \t [' +0.000', ' +1.000', ' +0.000']\n",
      "[' +1.000', ' +3.000', ' +5.000'] \t [' +0.000', ' +0.000', ' +1.000']\n",
      "\n",
      "Since the matrices won't be the original A and I as we start row operations, \n",
      "    the matrices will be called: AM for \"A Morphing\", and IM for \"I Morphing\" \n",
      "    (no reference to Power Rangers intended).\n",
      "\n",
      "Using the matrices above, Scale row-1 of A and I by diagonal element 1 of A, which is +5.000.\n",
      "\n",
      "AM Matrix \t\t\t\t IM Matrix\n",
      "[' +1.000', ' +0.600', ' +0.200'] \t [' +0.200', ' +0.000', ' +0.000']\n",
      "[' +3.000', ' +9.000', ' +4.000'] \t [' +0.000', ' +1.000', ' +0.000']\n",
      "[' +1.000', ' +3.000', ' +5.000'] \t [' +0.000', ' +0.000', ' +1.000']\n",
      "\n",
      "Using the matrices above, subtract +3.000 * row-1 of A from row-2 of A, and \n",
      "\tsubtract +3.000 * row-1 of I from row-2 of I\n",
      "\n",
      "AM Matrix \t\t\t\t IM Matrix\n",
      "[' +1.000', ' +0.600', ' +0.200'] \t [' +0.200', ' +0.000', ' +0.000']\n",
      "[' +0.000', ' +7.200', ' +3.400'] \t [' -0.600', ' +1.000', ' +0.000']\n",
      "[' +1.000', ' +3.000', ' +5.000'] \t [' +0.000', ' +0.000', ' +1.000']\n",
      "\n",
      "Using the matrices above, subtract +1.000 * row-1 of A from row-3 of A, and \n",
      "\tsubtract +1.000 * row-1 of I from row-3 of I\n",
      "\n",
      "AM Matrix \t\t\t\t IM Matrix\n",
      "[' +1.000', ' +0.600', ' +0.200'] \t [' +0.200', ' +0.000', ' +0.000']\n",
      "[' +0.000', ' +7.200', ' +3.400'] \t [' -0.600', ' +1.000', ' +0.000']\n",
      "[' +0.000', ' +2.400', ' +4.800'] \t [' -0.200', ' +0.000', ' +1.000']\n",
      "\n",
      "\n",
      "Using the matrices above, Scale row-2 of A and I by diagonal element 2 of A, which is +7.200.\n",
      "\n",
      "AM Matrix \t\t\t\t IM Matrix\n",
      "[' +1.000', ' +0.600', ' +0.200'] \t [' +0.200', ' +0.000', ' +0.000']\n",
      "[' +0.000', ' +1.000', ' +0.472'] \t [' -0.083', ' +0.139', ' +0.000']\n",
      "[' +0.000', ' +2.400', ' +4.800'] \t [' -0.200', ' +0.000', ' +1.000']\n",
      "\n",
      "Using the matrices above, subtract +2.400 * row-2 of A from row-3 of A, and \n",
      "\tsubtract +2.400 * row-2 of I from row-3 of I\n",
      "\n",
      "AM Matrix \t\t\t\t IM Matrix\n",
      "[' +1.000', ' +0.600', ' +0.200'] \t [' +0.200', ' +0.000', ' +0.000']\n",
      "[' +0.000', ' +1.000', ' +0.472'] \t [' -0.083', ' +0.139', ' +0.000']\n",
      "[' +0.000', ' +0.000', ' +3.667'] \t [' +0.000', ' -0.333', ' +1.000']\n",
      "\n",
      "\n",
      "Using the matrices above, Scale row-3 of A and I by diagonal element 3 of A, which is +3.667.\n",
      "\n",
      "AM Matrix \t\t\t\t IM Matrix\n",
      "[' +1.000', ' +0.600', ' +0.200'] \t [' +0.200', ' +0.000', ' +0.000']\n",
      "[' +0.000', ' +1.000', ' +0.472'] \t [' -0.083', ' +0.139', ' +0.000']\n",
      "[' +0.000', ' +0.000', ' +1.000'] \t [' +0.000', ' -0.091', ' +0.273']\n",
      "\n",
      "The lower triangle of AM is all 0's. Now, we'll do operations to make the upper triangle all 0's.\n",
      "\n",
      "\n"
     ]
    }
   ],
   "source": [
    "AM = copy_matrix(A)\n",
    "Inv = copy_matrix(I)\n",
    "n = len(AM)\n",
    "\n",
    "print('A and I are our starting matrices.')\n",
    "Action = ''\n",
    "print_matrices(Action, 'A Matrix', A, 'I Matrix', I)\n",
    "exString = \"\"\"\n",
    "Since the matrices won't be the original A and I as we start row operations, \n",
    "    the matrices will be called: AM for \"A Morphing\", and IM for \"I Morphing\" \n",
    "    (no reference to Power Rangers intended).\"\"\"\n",
    "\n",
    "for fd in range(n): # fd is for focus diagonal\n",
    "    for i in range(fd,n):\n",
    "        if i == fd:\n",
    "            scaler = 1.0 / AM[i][fd]\n",
    "        else:\n",
    "            scaler = AM[i][fd]\n",
    "        for j in range(n):\n",
    "            if i == fd:\n",
    "                AM[i][j] *= scaler\n",
    "                Inv[i][j] *= scaler\n",
    "                string1 = '\\nUsing the matrices above, Scale row-{} of A and I by diagonal element {} of A, '\n",
    "                string2 = 'which is {:+.3f}.\\n'\n",
    "                stringsum = string1 + string2\n",
    "                val1 = i+1\n",
    "                val2 = fd+1\n",
    "                Action = stringsum.format(val1,val2,round(1./scaler,3))\n",
    "                if i == fd and fd == 0 and j == 0:\n",
    "                    print(exString)\n",
    "            else:\n",
    "                AM[i][j] = AM[i][j] - scaler * AM[fd][j]\n",
    "                Inv[i][j] = Inv[i][j] - scaler * Inv[fd][j]\n",
    "                string1 = 'Using the matrices above, subtract {:+.3f} * row-{} of A from row-{} of A, and \\n'\n",
    "                string2 = '\\tsubtract {:+.3f} * row-{} of I from row-{} of I\\n'\n",
    "                val1 = i+1\n",
    "                val2 = fd+1\n",
    "                stringsum = string1 + string2\n",
    "                Action = stringsum.format(scaler, val2, val1, scaler, val2, val1)\n",
    "\n",
    "        print_matrices(Action, 'AM Matrix', AM, 'IM Matrix', Inv)\n",
    "        print()\n",
    "print(\"The lower triangle of AM is all 0's. Now, we'll do operations to make the upper triangle all 0's.\\n\\n\")"
   ]
  },
  {
   "cell_type": "markdown",
   "metadata": {},
   "source": [
    "## Steps to Make the Upper Triangle Matrix All 0's"
   ]
  },
  {
   "cell_type": "code",
   "execution_count": 4,
   "metadata": {},
   "outputs": [
    {
     "name": "stdout",
     "output_type": "stream",
     "text": [
      "Using the matrices above, subtract +0.472 * row-3 of A from row-2 of A, and \n",
      "\tsubtract +0.472 * row-3 of I from row-2 of I\n",
      "\n",
      "AM Matrix \t\t\t\t IM Matrix\n",
      "[' +1.000', ' +0.600', ' +0.200'] \t [' +0.200', ' +0.000', ' +0.000']\n",
      "[' +0.000', ' +1.000', ' +0.000'] \t [' -0.083', ' +0.182', ' -0.129']\n",
      "[' +0.000', ' +0.000', ' +1.000'] \t [' +0.000', ' -0.091', ' +0.273']\n",
      "\n",
      "Using the matrices above, subtract +0.200 * row-3 of A from row-1 of A, and \n",
      "\tsubtract +0.200 * row-3 of I from row-1 of I\n",
      "\n",
      "AM Matrix \t\t\t\t IM Matrix\n",
      "[' +1.000', ' +0.600', ' +0.000'] \t [' +0.200', ' +0.018', ' -0.055']\n",
      "[' +0.000', ' +1.000', ' +0.000'] \t [' -0.083', ' +0.182', ' -0.129']\n",
      "[' +0.000', ' +0.000', ' +1.000'] \t [' +0.000', ' -0.091', ' +0.273']\n",
      "\n",
      "Using the matrices above, subtract +0.600 * row-2 of A from row-1 of A, and \n",
      "\tsubtract +0.600 * row-2 of I from row-1 of I\n",
      "\n",
      "AM Matrix \t\t\t\t IM Matrix\n",
      "[' +1.000', ' +0.000', ' +0.000'] \t [' +0.250', ' -0.091', ' +0.023']\n",
      "[' +0.000', ' +1.000', ' +0.000'] \t [' -0.083', ' +0.182', ' -0.129']\n",
      "[' +0.000', ' +0.000', ' +1.000'] \t [' +0.000', ' -0.091', ' +0.273']\n",
      "\n",
      "All operations complete. The IM matrix is now the inverse of A. Let's do a final check.\n"
     ]
    }
   ],
   "source": [
    "for fd in range(n-1,0,-1):\n",
    "    for i in range(fd-1,-1,-1):\n",
    "        scaler = AM[i][fd]\n",
    "        for j in range(n):\n",
    "            AM[i][j] = AM[i][j] - scaler * AM[fd][j]\n",
    "            Inv[i][j] = Inv[i][j] - scaler * Inv[fd][j]\n",
    "            string1 = 'Using the matrices above, subtract {:+.3f} * row-{} of A from row-{} of A, and \\n'\n",
    "            string2 = '\\tsubtract {:+.3f} * row-{} of I from row-{} of I\\n'\n",
    "            val1 = i+1\n",
    "            val2 = fd+1\n",
    "            stringsum = string1 + string2\n",
    "            Action = stringsum.format(scaler, val2, val1, scaler, val2, val1)\n",
    "        \n",
    "        print_matrices(Action, 'AM Matrix', AM, 'IM Matrix', Inv)\n",
    "        print()\n",
    "print(\"All operations complete. The IM matrix is now the inverse of A. Let's do a final check.\")\n",
    "        "
   ]
  },
  {
   "cell_type": "markdown",
   "metadata": {},
   "source": [
    "## Final Check"
   ]
  },
  {
   "cell_type": "code",
   "execution_count": 5,
   "metadata": {},
   "outputs": [
    {
     "name": "stdout",
     "output_type": "stream",
     "text": [
      "Now we multiply the original A matrix times our inverse of A.\n",
      "If we get an identify matrix, our inversion is proved.\n",
      "\n",
      "[1.0, 0.0, 0.0]\n",
      "[0.0, 1.0, 0.0]\n",
      "[0.0, 0.0, 1.0]\n"
     ]
    }
   ],
   "source": [
    "print(\"Now we multiply the original A matrix times our inverse of A.\")\n",
    "print_matrix('If we get an identify matrix, our inversion is proved.\\n', matrix_multiply(A,Inv))"
   ]
  }
 ],
 "metadata": {
  "kernelspec": {
   "display_name": "Python 3",
   "language": "python",
   "name": "python3"
  },
  "language_info": {
   "codemirror_mode": {
    "name": "ipython",
    "version": 3
   },
   "file_extension": ".py",
   "mimetype": "text/x-python",
   "name": "python",
   "nbconvert_exporter": "python",
   "pygments_lexer": "ipython3",
   "version": "3.5.2"
  }
 },
 "nbformat": 4,
 "nbformat_minor": 2
}
