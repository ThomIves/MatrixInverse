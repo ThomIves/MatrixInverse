{
 "cells": [
  {
   "cell_type": "code",
   "execution_count": 1,
   "metadata": {},
   "outputs": [],
   "source": [
    "def print_matrix(Title, M):\n",
    "    print(Title)\n",
    "    for row in M:\n",
    "        print([round(x,3)+0 for x in row])\n",
    "        \n",
    "def print_matrices(Action, Title1, M1, Title2, M2):\n",
    "    print(Action)\n",
    "    print(Title1, '\\t'*int(len(M1)/2)+\"\\t\"*len(M1), Title2)\n",
    "    for i in range(len(M1)):\n",
    "        row1 = ['{0:+7.3f}'.format(x) for x in M1[i]]\n",
    "        row2 = ['{0:+7.3f}'.format(x) for x in M2[i]]\n",
    "        print(row1,'\\t', row2)\n",
    "        \n",
    "def zeros_matrix(rows, cols):\n",
    "    A = []\n",
    "    for i in range(rows):\n",
    "        A.append([])\n",
    "        for j in range(cols):\n",
    "            A[-1].append(0.0)\n",
    "\n",
    "    return A\n",
    "\n",
    "def copy_matrix(M):\n",
    "    rows = len(M)\n",
    "    cols = len(M[0])\n",
    "\n",
    "    MC = zeros_matrix(rows, cols)\n",
    "\n",
    "    for i in range(rows):\n",
    "        for j in range(rows):\n",
    "            MC[i][j] = M[i][j]\n",
    "\n",
    "    return MC\n",
    "\n",
    "def matrix_multiply(A,B):\n",
    "    rowsA = len(A)\n",
    "    colsA = len(A[0])\n",
    "\n",
    "    rowsB = len(B)\n",
    "    colsB = len(B[0])\n",
    "\n",
    "    if colsA != rowsB:\n",
    "        print('Number of A columns must equal number of B rows.')\n",
    "        sys.exit()\n",
    "\n",
    "    C = zeros_matrix(rowsA, colsB)\n",
    "\n",
    "    for i in range(rowsA):\n",
    "        for j in range(colsB):\n",
    "            total = 0\n",
    "            for ii in range(colsA):\n",
    "                total += A[i][ii] * B[ii][j]\n",
    "            C[i][j] = total\n",
    "\n",
    "    return C"
   ]
  },
  {
   "cell_type": "code",
   "execution_count": 2,
   "metadata": {},
   "outputs": [
    {
     "name": "stdout",
     "output_type": "stream",
     "text": [
      "A and I are our starting matrices.\n",
      "\n",
      "A Matrix \t\t\t\t I Matrix\n",
      "[' +5.000', ' +3.000', ' +1.000'] \t [' +1.000', ' +0.000', ' +0.000']\n",
      "[' +3.000', ' +9.000', ' +4.000'] \t [' +0.000', ' +1.000', ' +0.000']\n",
      "[' +1.000', ' +3.000', ' +5.000'] \t [' +0.000', ' +0.000', ' +1.000']\n"
     ]
    }
   ],
   "source": [
    "A = [[5.,3.,1.],[3.,9.,4.],[1.,3.,5.]]\n",
    "I = [[1.,0.,0.],[0.,1.,0.],[0.,0.,1.]]\n",
    "\n",
    "print('A and I are our starting matrices.')\n",
    "Action = ''\n",
    "print_matrices(Action, 'A Matrix', A, 'I Matrix', I)"
   ]
  },
  {
   "cell_type": "code",
   "execution_count": 6,
   "metadata": {},
   "outputs": [
    {
     "name": "stdout",
     "output_type": "stream",
     "text": [
      "\n",
      "Since the matrices won't be the original A and I as we start row operations, \n",
      "    the matrices will be called: AM for \"A Morphing\", and IM for \"I Morphing\" \n",
      "\n",
      "AM Matrix \t\t\t\t IM Matrix\n",
      "[' +5.000', ' +3.000', ' +1.000'] \t [' +1.000', ' +0.000', ' +0.000']\n",
      "[' +3.000', ' +9.000', ' +4.000'] \t [' +0.000', ' +1.000', ' +0.000']\n",
      "[' +1.000', ' +3.000', ' +5.000'] \t [' +0.000', ' +0.000', ' +1.000']\n",
      "\n"
     ]
    }
   ],
   "source": [
    "AM = copy_matrix(A)\n",
    "IM = copy_matrix(I)\n",
    "n = len(AM)\n",
    "\n",
    "exString = \"\"\"\n",
    "Since the matrices won't be the original A and I as we start row operations, \n",
    "    the matrices will be called: AM for \"A Morphing\", and IM for \"I Morphing\" \n",
    "\"\"\"\n",
    "print_matrices(exString, 'AM Matrix', AM, 'IM Matrix', IM)\n",
    "print()"
   ]
  },
  {
   "cell_type": "code",
   "execution_count": 7,
   "metadata": {},
   "outputs": [
    {
     "name": "stdout",
     "output_type": "stream",
     "text": [
      "\n",
      "AM Matrix \t\t\t\t IM Matrix\n",
      "[' +1.000', ' +0.600', ' +0.200'] \t [' +0.200', ' +0.000', ' +0.000']\n",
      "[' +3.000', ' +9.000', ' +4.000'] \t [' +0.000', ' +1.000', ' +0.000']\n",
      "[' +1.000', ' +3.000', ' +5.000'] \t [' +0.000', ' +0.000', ' +1.000']\n",
      "\n"
     ]
    }
   ],
   "source": [
    "diagonal = 0\n",
    "scaler = 1. / AM[diagonal][diagonal]\n",
    "\n",
    "row = diagonal\n",
    "for column in range(len(AM[row])):\n",
    "    AM[row][column] = scaler * AM[row][column]\n",
    "    IM[row][column] = scaler * IM[row][column]\n",
    "    \n",
    "print_matrices('', 'AM Matrix', AM, 'IM Matrix', IM)\n",
    "print()"
   ]
  },
  {
   "cell_type": "code",
   "execution_count": 8,
   "metadata": {},
   "outputs": [
    {
     "name": "stdout",
     "output_type": "stream",
     "text": [
      "\n",
      "AM Matrix \t\t\t\t IM Matrix\n",
      "[' +1.000', ' +0.600', ' +0.200'] \t [' +0.200', ' +0.000', ' +0.000']\n",
      "[' +0.000', ' +7.200', ' +3.400'] \t [' -0.600', ' +1.000', ' +0.000']\n",
      "[' +1.000', ' +3.000', ' +5.000'] \t [' +0.000', ' +0.000', ' +1.000']\n",
      "\n"
     ]
    }
   ],
   "source": [
    "row = 1\n",
    "scaler = AM[row][diagonal]\n",
    "for column in range(len(AM[row])):\n",
    "    AM[row][column] = AM[row][column] - scaler * AM[diagonal][column]\n",
    "    IM[row][column] = IM[row][column] - scaler * IM[diagonal][column]\n",
    "    \n",
    "print_matrices('', 'AM Matrix', AM, 'IM Matrix', IM)\n",
    "print()"
   ]
  },
  {
   "cell_type": "code",
   "execution_count": 9,
   "metadata": {},
   "outputs": [
    {
     "name": "stdout",
     "output_type": "stream",
     "text": [
      "\n",
      "AM Matrix \t\t\t\t IM Matrix\n",
      "[' +1.000', ' +0.600', ' +0.200'] \t [' +0.200', ' +0.000', ' +0.000']\n",
      "[' +0.000', ' +7.200', ' +3.400'] \t [' -0.600', ' +1.000', ' +0.000']\n",
      "[' +0.000', ' +2.400', ' +4.800'] \t [' -0.200', ' +0.000', ' +1.000']\n",
      "\n"
     ]
    }
   ],
   "source": [
    "row = 2\n",
    "scaler = AM[row][diagonal]\n",
    "for column in range(len(AM[row])):\n",
    "    AM[row][column] = AM[row][column] - scaler * AM[diagonal][column]\n",
    "    IM[row][column] = IM[row][column] - scaler * IM[diagonal][column]\n",
    "    \n",
    "print_matrices('', 'AM Matrix', AM, 'IM Matrix', IM)\n",
    "print()"
   ]
  },
  {
   "cell_type": "code",
   "execution_count": 10,
   "metadata": {},
   "outputs": [
    {
     "name": "stdout",
     "output_type": "stream",
     "text": [
      "\n",
      "AM Matrix \t\t\t\t IM Matrix\n",
      "[' +1.000', ' +0.600', ' +0.200'] \t [' +0.200', ' +0.000', ' +0.000']\n",
      "[' +0.000', ' +1.000', ' +0.472'] \t [' -0.083', ' +0.139', ' +0.000']\n",
      "[' +0.000', ' +2.400', ' +4.800'] \t [' -0.200', ' +0.000', ' +1.000']\n",
      "\n"
     ]
    }
   ],
   "source": [
    "diagonal = 1\n",
    "scaler = 1. / AM[diagonal][diagonal]\n",
    "\n",
    "row = diagonal\n",
    "for column in range(len(AM[row])):\n",
    "    AM[row][column] = scaler * AM[row][column]\n",
    "    IM[row][column] = scaler * IM[row][column]\n",
    "    \n",
    "print_matrices('', 'AM Matrix', AM, 'IM Matrix', IM)\n",
    "print()"
   ]
  },
  {
   "cell_type": "code",
   "execution_count": 11,
   "metadata": {},
   "outputs": [
    {
     "name": "stdout",
     "output_type": "stream",
     "text": [
      "\n",
      "AM Matrix \t\t\t\t IM Matrix\n",
      "[' +1.000', ' +0.600', ' +0.200'] \t [' +0.200', ' +0.000', ' +0.000']\n",
      "[' +0.000', ' +1.000', ' +0.472'] \t [' -0.083', ' +0.139', ' +0.000']\n",
      "[' +0.000', ' +0.000', ' +3.667'] \t [' +0.000', ' -0.333', ' +1.000']\n",
      "\n"
     ]
    }
   ],
   "source": [
    "row = 2\n",
    "scaler = AM[row][diagonal]\n",
    "for column in range(len(AM[row])):\n",
    "    AM[row][column] = AM[row][column] - scaler * AM[diagonal][column]\n",
    "    IM[row][column] = IM[row][column] - scaler * IM[diagonal][column]\n",
    "    \n",
    "print_matrices('', 'AM Matrix', AM, 'IM Matrix', IM)\n",
    "print()"
   ]
  },
  {
   "cell_type": "code",
   "execution_count": 12,
   "metadata": {},
   "outputs": [
    {
     "name": "stdout",
     "output_type": "stream",
     "text": [
      "\n",
      "AM Matrix \t\t\t\t IM Matrix\n",
      "[' +1.000', ' +0.600', ' +0.200'] \t [' +0.200', ' +0.000', ' +0.000']\n",
      "[' +0.000', ' +1.000', ' +0.472'] \t [' -0.083', ' +0.139', ' +0.000']\n",
      "[' +0.000', ' +0.000', ' +1.000'] \t [' +0.000', ' -0.091', ' +0.273']\n",
      "\n"
     ]
    }
   ],
   "source": [
    "diagonal = 2\n",
    "scaler = 1. / AM[diagonal][diagonal]\n",
    "\n",
    "row = diagonal\n",
    "for column in range(len(AM[row])):\n",
    "    AM[row][column] = scaler * AM[row][column]\n",
    "    IM[row][column] = scaler * IM[row][column]\n",
    "    \n",
    "print_matrices('', 'AM Matrix', AM, 'IM Matrix', IM)\n",
    "print()"
   ]
  },
  {
   "cell_type": "code",
   "execution_count": 13,
   "metadata": {},
   "outputs": [
    {
     "name": "stdout",
     "output_type": "stream",
     "text": [
      "\n",
      "AM Matrix \t\t\t\t IM Matrix\n",
      "[' +1.000', ' +0.600', ' +0.200'] \t [' +0.200', ' +0.000', ' +0.000']\n",
      "[' +0.000', ' +1.000', ' +0.000'] \t [' -0.083', ' +0.182', ' -0.129']\n",
      "[' +0.000', ' +0.000', ' +1.000'] \t [' +0.000', ' -0.091', ' +0.273']\n",
      "\n"
     ]
    }
   ],
   "source": [
    "row = 1\n",
    "scaler = AM[row][diagonal]\n",
    "for column in range(len(AM[row])):\n",
    "    AM[row][column] = AM[row][column] - scaler * AM[diagonal][column]\n",
    "    IM[row][column] = IM[row][column] - scaler * IM[diagonal][column]\n",
    "    \n",
    "print_matrices('', 'AM Matrix', AM, 'IM Matrix', IM)\n",
    "print()"
   ]
  },
  {
   "cell_type": "code",
   "execution_count": 14,
   "metadata": {},
   "outputs": [
    {
     "name": "stdout",
     "output_type": "stream",
     "text": [
      "\n",
      "AM Matrix \t\t\t\t IM Matrix\n",
      "[' +1.000', ' +0.600', ' +0.000'] \t [' +0.200', ' +0.018', ' -0.055']\n",
      "[' +0.000', ' +1.000', ' +0.000'] \t [' -0.083', ' +0.182', ' -0.129']\n",
      "[' +0.000', ' +0.000', ' +1.000'] \t [' +0.000', ' -0.091', ' +0.273']\n",
      "\n"
     ]
    }
   ],
   "source": [
    "row = 0\n",
    "scaler = AM[row][diagonal]\n",
    "for column in range(len(AM[row])):\n",
    "    AM[row][column] = AM[row][column] - scaler * AM[diagonal][column]\n",
    "    IM[row][column] = IM[row][column] - scaler * IM[diagonal][column]\n",
    "    \n",
    "print_matrices('', 'AM Matrix', AM, 'IM Matrix', IM)\n",
    "print()"
   ]
  },
  {
   "cell_type": "code",
   "execution_count": 15,
   "metadata": {},
   "outputs": [
    {
     "name": "stdout",
     "output_type": "stream",
     "text": [
      "\n",
      "AM Matrix \t\t\t\t IM Matrix\n",
      "[' +1.000', ' +0.000', ' +0.000'] \t [' +0.250', ' -0.091', ' +0.023']\n",
      "[' +0.000', ' +1.000', ' +0.000'] \t [' -0.083', ' +0.182', ' -0.129']\n",
      "[' +0.000', ' +0.000', ' +1.000'] \t [' +0.000', ' -0.091', ' +0.273']\n",
      "\n"
     ]
    }
   ],
   "source": [
    "diagonal = 1\n",
    "row = 0\n",
    "scaler = AM[row][diagonal]\n",
    "for column in range(len(AM[row])):\n",
    "    AM[row][column] = AM[row][column] - scaler * AM[diagonal][column]\n",
    "    IM[row][column] = IM[row][column] - scaler * IM[diagonal][column]\n",
    "    \n",
    "print_matrices('', 'AM Matrix', AM, 'IM Matrix', IM)\n",
    "print()"
   ]
  },
  {
   "cell_type": "code",
   "execution_count": 16,
   "metadata": {},
   "outputs": [
    {
     "name": "stdout",
     "output_type": "stream",
     "text": [
      "Identity Matrix from A * Ainv\n",
      "[1.0, 0.0, 0.0]\n",
      "[0.0, 1.0, 0.0]\n",
      "[0.0, 0.0, 1.0]\n"
     ]
    }
   ],
   "source": [
    "print_matrix('Identity Matrix from A * Ainv', matrix_multiply(A,IM))"
   ]
  },
  {
   "cell_type": "code",
   "execution_count": null,
   "metadata": {},
   "outputs": [],
   "source": []
  }
 ],
 "metadata": {
  "kernelspec": {
   "display_name": "Python 3",
   "language": "python",
   "name": "python3"
  },
  "language_info": {
   "codemirror_mode": {
    "name": "ipython",
    "version": 3
   },
   "file_extension": ".py",
   "mimetype": "text/x-python",
   "name": "python",
   "nbconvert_exporter": "python",
   "pygments_lexer": "ipython3",
   "version": "3.5.2"
  }
 },
 "nbformat": 4,
 "nbformat_minor": 2
}
